{
 "cells": [
  {
   "cell_type": "code",
   "execution_count": 41,
   "metadata": {},
   "outputs": [
    {
     "name": "stdout",
     "output_type": "stream",
     "text": [
      "Printer App\n",
      "This app is made by: Olga.\n",
      "The value of number1 is 5.\n",
      "The value of number2 is 2.\n",
      "5 * 2 = 10\n",
      "5 / 2 = 2.5\n",
      "5 + 2 = 7\n",
      "5 - 2 = 3\n"
     ]
    }
   ],
   "source": [
    "creator = \"Olga\"\n",
    "number1 = int(\"5\")\n",
    "number2 = int(\"2\")\n",
    "\n",
    "print(\"Printer App\")\n",
    "print(\"This app is made by: \" + creator + \".\")\n",
    "\n",
    "##print(number1)\n",
    "print(\"The value of number1 is \" + str(number1) + \".\")\n",
    "print(\"The value of number2 is \"+ str(number2) + \".\")\n",
    "\n",
    "multiplication = number1 * number2\n",
    "division = number1 / number2\n",
    "addition = number1 + number2\n",
    "substraction = number1 - number2\n",
    "\n",
    "print(str(number1) + \" * \" + str(number2) + \" = \" + str(multiplication))\n",
    "print(str(number1)+ \" / \"+ str(number2) + \" = \" + str(division))\n",
    "print(str(number1) + \" + \" + str(number2) + \" = \" + str(addition))\n",
    "print(str(number1) + \" - \" + str(number2) + \" = \" + str(substraction))\n"
   ]
  }
 ],
 "metadata": {
  "kernelspec": {
   "display_name": "Python 3",
   "language": "python",
   "name": "python3"
  },
  "language_info": {
   "codemirror_mode": {
    "name": "ipython",
    "version": 3
   },
   "file_extension": ".py",
   "mimetype": "text/x-python",
   "name": "python",
   "nbconvert_exporter": "python",
   "pygments_lexer": "ipython3",
   "version": "3.12.0"
  }
 },
 "nbformat": 4,
 "nbformat_minor": 2
}
