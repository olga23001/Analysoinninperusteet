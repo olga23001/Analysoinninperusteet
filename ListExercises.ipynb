{
 "cells": [
  {
   "cell_type": "markdown",
   "metadata": {},
   "source": [
    "Exercise 1"
   ]
  },
  {
   "cell_type": "code",
   "execution_count": 19,
   "metadata": {},
   "outputs": [
    {
     "name": "stdout",
     "output_type": "stream",
     "text": [
      "['table', 'chair', 'shelf']\n"
     ]
    }
   ],
   "source": [
    "#1. & 2.\n",
    "furniture = [\"table\", \"chair\", \"shelf\"]\n",
    "print(furniture)"
   ]
  },
  {
   "cell_type": "code",
   "execution_count": 16,
   "metadata": {},
   "outputs": [
    {
     "name": "stdout",
     "output_type": "stream",
     "text": [
      "['table', 'chair']\n"
     ]
    }
   ],
   "source": [
    "#3.\n",
    "furniture = [\"table\", \"chair\", \"shelf\"]\n",
    "print(furniture[:2])"
   ]
  },
  {
   "cell_type": "code",
   "execution_count": 18,
   "metadata": {},
   "outputs": [
    {
     "name": "stdout",
     "output_type": "stream",
     "text": [
      "Yes, 'sofa' is in this furniture list\n"
     ]
    }
   ],
   "source": [
    "#4.\n",
    "furniture = [\"table\", \"chair\", \"shelf\", \"sofa\"]\n",
    "if \"sofa\" in furniture:\n",
    "    print(\"Yes, 'sofa' is in this furniture list\")"
   ]
  },
  {
   "cell_type": "markdown",
   "metadata": {},
   "source": [
    "Exercise 2"
   ]
  },
  {
   "cell_type": "code",
   "execution_count": 20,
   "metadata": {},
   "outputs": [
    {
     "name": "stdout",
     "output_type": "stream",
     "text": [
      "[3, 4, 5, 2, 3]\n"
     ]
    }
   ],
   "source": [
    "#1,2,3\n",
    "import random\n",
    "rand_list=[]\n",
    "n=5\n",
    "for i in range(n):\n",
    "    rand_list.append(random.randint(1,6))\n",
    "print(rand_list)\n"
   ]
  },
  {
   "cell_type": "code",
   "execution_count": 22,
   "metadata": {},
   "outputs": [
    {
     "name": "stdout",
     "output_type": "stream",
     "text": [
      "[4, 5, 3, 4, 2]\n",
      "18\n"
     ]
    }
   ],
   "source": [
    "import random\n",
    "rand_list=[]\n",
    "n=5\n",
    "for i in range(n):\n",
    "    rand_list.append(random.randint(1,6))\n",
    "print(rand_list)\n",
    "print(sum(rand_list))"
   ]
  },
  {
   "cell_type": "code",
   "execution_count": 27,
   "metadata": {},
   "outputs": [
    {
     "name": "stdout",
     "output_type": "stream",
     "text": [
      "6\n"
     ]
    }
   ],
   "source": [
    "import random\n",
    "rand_list=[]\n",
    "n=5\n",
    "for i in range(n):\n",
    "   x = max(1,6)\n",
    "print(x)"
   ]
  },
  {
   "cell_type": "markdown",
   "metadata": {},
   "source": [
    "Exercise 3 (EXTRA)"
   ]
  },
  {
   "cell_type": "code",
   "execution_count": 60,
   "metadata": {},
   "outputs": [
    {
     "name": "stdout",
     "output_type": "stream",
     "text": [
      "18\n",
      "6\n",
      "2\n",
      "16\n",
      "7\n"
     ]
    }
   ],
   "source": [
    "import random\n",
    "def print_numbers():\n",
    "    numbers = random.sample(range(1, 21), 5)\n",
    "    for number in numbers:\n",
    "        print(number)\n",
    "print_numbers()"
   ]
  }
 ],
 "metadata": {
  "kernelspec": {
   "display_name": "Python 3",
   "language": "python",
   "name": "python3"
  },
  "language_info": {
   "codemirror_mode": {
    "name": "ipython",
    "version": 3
   },
   "file_extension": ".py",
   "mimetype": "text/x-python",
   "name": "python",
   "nbconvert_exporter": "python",
   "pygments_lexer": "ipython3",
   "version": "3.12.0"
  }
 },
 "nbformat": 4,
 "nbformat_minor": 2
}
