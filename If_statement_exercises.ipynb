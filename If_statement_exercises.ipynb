{
 "cells": [
  {
   "cell_type": "code",
   "execution_count": 95,
   "metadata": {},
   "outputs": [],
   "source": [
    "number1 = 7\n",
    "number2 = 5\n",
    "number = int"
   ]
  },
  {
   "cell_type": "markdown",
   "metadata": {},
   "source": [
    "1."
   ]
  },
  {
   "cell_type": "code",
   "execution_count": 96,
   "metadata": {},
   "outputs": [
    {
     "name": "stdout",
     "output_type": "stream",
     "text": [
      "number1 and number2 are not equal\n"
     ]
    }
   ],
   "source": [
    "#a\n",
    "if number1 == number2:\n",
    "    print(\"number1 and number2 are equal\")\n",
    "else:\n",
    "    print(\"number1 and number2 are not equal\")\n"
   ]
  },
  {
   "cell_type": "code",
   "execution_count": 97,
   "metadata": {},
   "outputs": [
    {
     "name": "stdout",
     "output_type": "stream",
     "text": [
      "number1 is grater than number2\n"
     ]
    }
   ],
   "source": [
    "#b\n",
    "if number1 > number2:\n",
    "    print(\"number1 is grater than number2\")\n",
    "else:\n",
    "    print(\"number1 is not grater than number2\")"
   ]
  },
  {
   "cell_type": "code",
   "execution_count": 98,
   "metadata": {},
   "outputs": [
    {
     "name": "stdout",
     "output_type": "stream",
     "text": [
      "number1 is grater or equal to number2\n"
     ]
    }
   ],
   "source": [
    "#c\n",
    "if number1 >= number2:\n",
    "    print(\"number1 is grater or equal to number2\")\n",
    "else:\n",
    "    print(\"number1 is not grater or equal to number2\")"
   ]
  },
  {
   "cell_type": "code",
   "execution_count": 99,
   "metadata": {},
   "outputs": [
    {
     "name": "stdout",
     "output_type": "stream",
     "text": [
      "number1 is not equal to number2\n"
     ]
    }
   ],
   "source": [
    "#d\n",
    "if number1 != number2:\n",
    "    print(\"number1 is not equal to number2\")\n",
    "else:\n",
    "    print(\"number1 is equal to number2\")"
   ]
  },
  {
   "cell_type": "markdown",
   "metadata": {},
   "source": [
    "2."
   ]
  },
  {
   "cell_type": "code",
   "execution_count": 100,
   "metadata": {},
   "outputs": [],
   "source": [
    "number1 = 2\n",
    "number2 = 6\n",
    "number3 = 4\n",
    "number = int"
   ]
  },
  {
   "cell_type": "code",
   "execution_count": 101,
   "metadata": {},
   "outputs": [
    {
     "name": "stdout",
     "output_type": "stream",
     "text": [
      "all numbers are not equal\n"
     ]
    }
   ],
   "source": [
    "#a\n",
    "if number1 == number2 == number3:\n",
    "    print(\"all numbers are equal\")\n",
    "else:\n",
    "    print(\"all numbers are not equal\")"
   ]
  },
  {
   "cell_type": "code",
   "execution_count": 102,
   "metadata": {},
   "outputs": [
    {
     "name": "stdout",
     "output_type": "stream",
     "text": [
      "all numbers are not equal\n"
     ]
    }
   ],
   "source": [
    "#b\n",
    "if number1 == number2 or number2 == number3:\n",
    "    print(\"number1 and number2 are equal OR number2 and number3 are equal\")\n",
    "else:\n",
    "    print(\"all numbers are not equal\")"
   ]
  },
  {
   "cell_type": "code",
   "execution_count": 103,
   "metadata": {},
   "outputs": [
    {
     "name": "stdout",
     "output_type": "stream",
     "text": [
      "number1 is NOT greater than number2 or number3\n"
     ]
    }
   ],
   "source": [
    "#c\n",
    "if number1 > number2 and number1 > number3:\n",
    "    print(\"number1 is greater than number2 and number3\")\n",
    "else:\n",
    "    print(\"number1 is NOT greater than number2 or number3\")"
   ]
  },
  {
   "cell_type": "code",
   "execution_count": 104,
   "metadata": {},
   "outputs": [
    {
     "name": "stdout",
     "output_type": "stream",
     "text": [
      "number1 is not grater than number2 but number2 is grater than number3\n"
     ]
    }
   ],
   "source": [
    "#d\n",
    "if number1 > number2:\n",
    "    print(\"number1 is greater than number2\")\n",
    "elif number2 > number3:\n",
    "    print(\"number1 is not grater than number2 but number2 is grater than number3\")\n",
    "else:\n",
    "    print(\"number3 is grater than number1 and number2\")"
   ]
  },
  {
   "cell_type": "code",
   "execution_count": 105,
   "metadata": {},
   "outputs": [
    {
     "name": "stdout",
     "output_type": "stream",
     "text": [
      "numbers are not equal\n"
     ]
    }
   ],
   "source": [
    "#e\n",
    "if number1 == number2:\n",
    "    print (\"number1 and number2 are equal\")\n",
    "elif number1 == number3:\n",
    "    print (\"number1 and number3 are equal\")\n",
    "else:\n",
    "    print(\"numbers are not equal\")"
   ]
  },
  {
   "cell_type": "code",
   "execution_count": 106,
   "metadata": {},
   "outputs": [
    {
     "data": {
      "text/plain": [
       "3.0"
      ]
     },
     "execution_count": 106,
     "metadata": {},
     "output_type": "execute_result"
    }
   ],
   "source": [
    "3."
   ]
  },
  {
   "cell_type": "code",
   "execution_count": 107,
   "metadata": {},
   "outputs": [],
   "source": [
    "name1 = \"Pekka\"\n",
    "name2 = \"Pirjo\"\n",
    "name3 = \"Marjo\""
   ]
  },
  {
   "cell_type": "code",
   "execution_count": 108,
   "metadata": {},
   "outputs": [
    {
     "name": "stdout",
     "output_type": "stream",
     "text": [
      "name1 and name2 are NOT equal\n"
     ]
    }
   ],
   "source": [
    "#a\n",
    "if name1 == name2:\n",
    "    print (\"name1 and name2 are equal\")\n",
    "else:\n",
    "    print (\"name1 and name2 are NOT equal\")"
   ]
  },
  {
   "cell_type": "code",
   "execution_count": 109,
   "metadata": {},
   "outputs": [
    {
     "name": "stdout",
     "output_type": "stream",
     "text": [
      "name1 and name2 are NOT equal\n"
     ]
    }
   ],
   "source": [
    "#b\n",
    "if name1 != name2:\n",
    "    print (\"name1 and name2 are NOT equal\")\n",
    "else:\n",
    "    print (\"name1 and name2 are equal\")"
   ]
  },
  {
   "cell_type": "code",
   "execution_count": 110,
   "metadata": {},
   "outputs": [
    {
     "name": "stdout",
     "output_type": "stream",
     "text": [
      "names are not equal\n"
     ]
    }
   ],
   "source": [
    "#c\n",
    "if name1 == name2:\n",
    "    print (\"name1 and name2 are equal\")\n",
    "elif name1 == name3:\n",
    "    print (\"name1 and name3 are equal\")\n",
    "else:\n",
    "    print (\"names are not equal\")"
   ]
  }
 ],
 "metadata": {
  "kernelspec": {
   "display_name": "Python 3",
   "language": "python",
   "name": "python3"
  },
  "language_info": {
   "codemirror_mode": {
    "name": "ipython",
    "version": 3
   },
   "file_extension": ".py",
   "mimetype": "text/x-python",
   "name": "python",
   "nbconvert_exporter": "python",
   "pygments_lexer": "ipython3",
   "version": "3.12.0"
  }
 },
 "nbformat": 4,
 "nbformat_minor": 2
}
